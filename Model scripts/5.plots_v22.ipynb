{
 "cells": [
  {
   "cell_type": "code",
   "execution_count": 1,
   "id": "7c6e9442",
   "metadata": {},
   "outputs": [],
   "source": [
    "import os\n",
    "import numpy as np\n",
    "import matplotlib.pyplot as plt\n",
    "import pandas as pd\n",
    "from sklearn.linear_model import LinearRegression\n",
    "import math"
   ]
  },
  {
   "cell_type": "code",
   "execution_count": 2,
   "id": "7d016fcd",
   "metadata": {},
   "outputs": [],
   "source": [
    "def RSE(y_true, y_predicted):\n",
    "    y_true = np.array(y_true)\n",
    "    y_predicted = np.array(y_predicted)\n",
    "    RSS = np.sum(np.square(y_true - y_predicted))\n",
    "    rse = math.sqrt(RSS / (len(y_true) - 2))\n",
    "    return rse\n",
    "\n",
    "def std_errors(y_true, y_predicted):\n",
    "    y_true = np.array(y_true)\n",
    "    y_predicted = np.array(y_predicted)\n",
    "    std = np.std(abs(y_true - y_predicted))\n",
    "    return std"
   ]
  },
  {
   "cell_type": "code",
   "execution_count": 11,
   "id": "fa787c7b",
   "metadata": {
    "collapsed": true,
    "jupyter": {
     "outputs_hidden": true
    }
   },
   "outputs": [
    {
     "name": "stdout",
     "output_type": "stream",
     "text": [
      "7443\n",
      "      Unnamed: 0.1  Unnamed: 0       vpn   g  s  hc  wlmm  f left_good  \\\n",
      "0                0           0  22077901  Gp  2   0  7.61  2         0   \n",
      "1                1           1  22077902  Gp  2   0  7.61  3         0   \n",
      "2                2           2  22077903  Gp  2   0  7.32  5         0   \n",
      "3                3           3  22077904  Gp  2   0  7.23  4         0   \n",
      "4                4           4  22077905  Gp  2   0  7.71  1         0   \n",
      "...            ...         ...       ...  .. ..  ..   ... ..       ...   \n",
      "7438          7438        7438  22115516  Gp  1   0  6.94  4         0   \n",
      "7439          7439        7439  22115517  Gp  1   0  6.94  3         0   \n",
      "7440          7440        7440  22115518  Gp  1   0  6.84  6         0   \n",
      "7441          7441        7441  22115519  Gp  2   0  6.75  5         0   \n",
      "7442          7442        7442  22115520  Gp  2   0  7.32  6         0   \n",
      "\n",
      "     right_good  ...        r_x8        r_y8         r_x9        r_y9  \\\n",
      "0             0  ...  602.018372  723.141724  1078.337891  434.953613   \n",
      "1             0  ...  573.963684  753.574097  1016.201660  427.777832   \n",
      "2             0  ...  563.124084  777.472046   987.104614  451.846252   \n",
      "3             0  ...  533.051270  764.305786   970.140869  469.387390   \n",
      "4             0  ...  571.839050  748.406250  1044.840820  426.717682   \n",
      "...         ...  ...         ...         ...          ...         ...   \n",
      "7438          1  ...  600.052551  734.695557   990.970337  444.607483   \n",
      "7439          0  ...  551.046204  766.143066   955.964294  471.814026   \n",
      "7440          0  ...  609.076965  713.755249  1003.093262  419.301758   \n",
      "7441          0  ...  551.605286  750.664124   936.277161  444.847168   \n",
      "7442          0  ...  567.621582  711.229248   998.112671  416.660522   \n",
      "\n",
      "           r_x10       r_y10       r_x11       r_y11        dis_l        dis_r  \n",
      "0     658.194031  487.285828  956.266357  387.787781  1107.771524  1098.062710  \n",
      "1     601.896851  518.133789  883.474731  395.640503  1102.134388  1091.836122  \n",
      "2     603.784790  545.683350  868.167419  421.171875  1054.053681  1056.701373  \n",
      "3     585.283081  539.527710  847.430664  434.247406  1053.796171  1050.264875  \n",
      "4     617.525879  509.326538  916.870667  387.414612  1119.358830  1119.489692  \n",
      "...          ...         ...         ...         ...          ...          ...  \n",
      "7438  628.322510  535.467346  879.874756  415.528137   992.393949   990.340681  \n",
      "7439  582.329346  549.529846  842.752197  435.414246  1004.232405   993.652461  \n",
      "7440  635.894836  500.062622  892.186035  388.423645   997.473612   991.759396  \n",
      "7441  592.440796  522.516968  833.267700  412.146088   981.341316   966.412864  \n",
      "7442  603.060059  490.371277  881.454529  381.011536  1045.192909  1049.550477  \n",
      "\n",
      "[7443 rows x 56 columns]\n"
     ]
    }
   ],
   "source": [
    "xlsx_dir = 'C:/Users/19480105/OneDrive - Stellenbosch University/Documents/1. Research Project/Data/Results/final_unclean.xlsx'\n",
    "xlsx = pd.read_excel(xlsx_dir)\n",
    "print(len(xlsx))\n",
    "print(xlsx)"
   ]
  },
  {
   "cell_type": "code",
   "execution_count": 12,
   "id": "3ce62d64",
   "metadata": {},
   "outputs": [
    {
     "data": {
      "text/plain": [
       "0       1098.062710\n",
       "1       1091.836122\n",
       "2       1056.701373\n",
       "3       1050.264875\n",
       "4       1119.489692\n",
       "           ...     \n",
       "7438     990.340681\n",
       "7439     993.652461\n",
       "7440     991.759396\n",
       "7441     966.412864\n",
       "7442    1049.550477\n",
       "Name: dis_r, Length: 7443, dtype: float64"
      ]
     },
     "execution_count": 12,
     "metadata": {},
     "output_type": "execute_result"
    }
   ],
   "source": [
    "xlsx.iloc[:, -1]"
   ]
  },
  {
   "cell_type": "code",
   "execution_count": 13,
   "id": "b6d5811a",
   "metadata": {},
   "outputs": [
    {
     "data": {
      "text/plain": [
       "0       7.61\n",
       "1       7.61\n",
       "2       7.32\n",
       "3       7.23\n",
       "4       7.71\n",
       "        ... \n",
       "7438    6.94\n",
       "7439    6.94\n",
       "7440    6.84\n",
       "7441    6.75\n",
       "7442    7.32\n",
       "Name: wlmm, Length: 7443, dtype: float64"
      ]
     },
     "execution_count": 13,
     "metadata": {},
     "output_type": "execute_result"
    }
   ],
   "source": [
    "xlsx.iloc[:, 6]"
   ]
  },
  {
   "cell_type": "code",
   "execution_count": 16,
   "id": "19236b03",
   "metadata": {},
   "outputs": [
    {
     "name": "stdout",
     "output_type": "stream",
     "text": [
      "Plots saved successfully.\n"
     ]
    }
   ],
   "source": [
    "# Group by page and create plots for each page\n",
    "results_folder = 'C:/Users/19480105/OneDrive - Stellenbosch University/Documents/1. Research Project/Data/Results/Plots'\n",
    "if not os.path.exists(results_folder):\n",
    "    os.makedirs(results_folder)\n",
    "\n",
    "# Group the data by page number\n",
    "xlsx['page_number'] = xlsx['vpn'].astype(str).str[2:6]\n",
    "grouped = xlsx.groupby('page_number')\n",
    "\n",
    "# Iterate through each group (page)\n",
    "for page_number, group in grouped:\n",
    "    if group.empty or group['wlmm'].isnull().all() or group['dis_r'].isnull().all():\n",
    "        continue\n",
    "    \n",
    "    X = group['wlmm'].values.reshape(-1, 1)\n",
    "    y = group['dis_r'].values / 100\n",
    "    \n",
    "    # Fit linear regression\n",
    "    linreg = LinearRegression()\n",
    "    linreg.fit(X, y)\n",
    "    y_pred = linreg.predict(X)\n",
    "    \n",
    "    # Calculate R-squared and standard errors\n",
    "    r_squared = linreg.score(X, y)\n",
    "    std_err = std_errors(y, y_pred)\n",
    "    \n",
    "    # Plotting\n",
    "    plt.scatter(group['wlmm'], y, color='b', s=0.8, label='Data points')\n",
    "    plt.plot(group['wlmm'], y_pred, color='r', label='Regression line')\n",
    "    plt.xlim(4, 9)\n",
    "    plt.ylim(6, 12)\n",
    "    plt.xlabel(\"wlmm\")\n",
    "    plt.ylabel(\"dis_r (divided by 100)\")\n",
    "    plt.title(f'Page {page_number}\\nR-squared: {r_squared:.2f}, Std Errors: {std_err:.2f}')\n",
    "    plt.legend()\n",
    "    \n",
    "    # Save plot\n",
    "    plot_filename = f'{results_folder}/Page_{page_number}.jpg'\n",
    "    plt.savefig(plot_filename)\n",
    "    plt.close()\n",
    "\n",
    "print(\"Plots saved successfully.\")"
   ]
  }
 ],
 "metadata": {
  "kernelspec": {
   "display_name": "Python 3",
   "language": "python",
   "name": "python3"
  },
  "language_info": {
   "codemirror_mode": {
    "name": "ipython",
    "version": 3
   },
   "file_extension": ".py",
   "mimetype": "text/x-python",
   "name": "python",
   "nbconvert_exporter": "python",
   "pygments_lexer": "ipython3",
   "version": "3.8.8"
  },
  "toc": {
   "base_numbering": 1,
   "nav_menu": {},
   "number_sections": true,
   "sideBar": true,
   "skip_h1_title": false,
   "title_cell": "Table of Contents",
   "title_sidebar": "Contents",
   "toc_cell": false,
   "toc_position": {},
   "toc_section_display": true,
   "toc_window_display": false
  }
 },
 "nbformat": 4,
 "nbformat_minor": 5
}
